{
 "cells": [
  {
   "attachments": {},
   "cell_type": "markdown",
   "metadata": {},
   "source": [
    "Oh My Zsh - Q/A Agent "
   ]
  },
  {
   "cell_type": "code",
   "execution_count": 7,
   "metadata": {},
   "outputs": [
    {
     "name": "stdout",
     "output_type": "stream",
     "text": [
      "[{'file_path': 'External-themes.md', 'file_name': 'External-themes.md', 'file_type': '.md'}, {'file_path': 'External-themes.md', 'file_name': 'External-themes.md', 'file_type': '.md'}, {'file_path': 'External-themes.md', 'file_name': 'External-themes.md', 'file_type': '.md'}]\n"
     ]
    }
   ],
   "source": [
    "\n",
    "from langchain.embeddings.openai import OpenAIEmbeddings\n",
    "from langchain.vectorstores import Chroma\n",
    "from memory import get_memory\n",
    "\n",
    "ohmyzshwiki_store = get_memory().vectordb\n",
    "\n",
    "print([x.metadata for x in ohmyzshwiki_store.as_retriever().get_relevant_documents(\"change shell color\")])"
   ]
  },
  {
   "attachments": {},
   "cell_type": "markdown",
   "metadata": {},
   "source": [
    "Initalize Agent"
   ]
  },
  {
   "cell_type": "code",
   "execution_count": 31,
   "metadata": {},
   "outputs": [],
   "source": [
    "from langchain.chat_models import ChatOpenAI\n",
    "from langchain.agents.agent_toolkits import (\n",
    "    create_vectorstore_agent,\n",
    "    VectorStoreToolkit,\n",
    "    VectorStoreInfo,\n",
    ")\n",
    "\n",
    "vectorstore_info = VectorStoreInfo(\n",
    "    name=\"oh my zsh wiki\",\n",
    "    description=\"oh my zsh wiki vectorstore from github repo\",\n",
    "    vectorstore=ohmyzshwiki_store\n",
    ")\n",
    "toolkit = VectorStoreToolkit(vectorstore_info=vectorstore_info)\n",
    "\n",
    "vector_agent = create_vectorstore_agent(\n",
    "    llm=ChatOpenAI(temperature=0),\n",
    "    toolkit=toolkit,\n",
    "    verbose=True\n",
    ")"
   ]
  },
  {
   "attachments": {},
   "cell_type": "markdown",
   "metadata": {},
   "source": [
    "Example Runs "
   ]
  },
  {
   "cell_type": "code",
   "execution_count": 32,
   "metadata": {},
   "outputs": [
    {
     "name": "stdout",
     "output_type": "stream",
     "text": [
      "\n",
      "\n",
      "\u001b[1m> Entering new AgentExecutor chain...\u001b[0m\n",
      "\u001b[32;1m\u001b[1;3mI should use the oh my zsh wiki to answer this question.\n",
      "Action: oh my zsh wiki\n",
      "Action Input: \"What is oh my zsh?\"\u001b[0m\n",
      "Observation: \u001b[36;1m\u001b[1;3m Oh My Zsh is a command line framework for managing your zsh configuration. It includes features such as themes, plugins, and autocompletion that make it easier to use the terminal.\u001b[0m\n",
      "Thought:\u001b[32;1m\u001b[1;3mI have the answer, but the user did not ask for sources, so I can just provide the answer.\n",
      "Final Answer: Oh My Zsh is a command line framework for managing your zsh configuration. It includes features such as themes, plugins, and autocompletion that make it easier to use the terminal.\u001b[0m\n",
      "\n",
      "\u001b[1m> Finished chain.\u001b[0m\n"
     ]
    },
    {
     "data": {
      "text/plain": [
       "'Oh My Zsh is a command line framework for managing your zsh configuration. It includes features such as themes, plugins, and autocompletion that make it easier to use the terminal.'"
      ]
     },
     "execution_count": 32,
     "metadata": {},
     "output_type": "execute_result"
    }
   ],
   "source": [
    "vector_agent.run(\"What is oh my zsh?\")"
   ]
  },
  {
   "cell_type": "code",
   "execution_count": 36,
   "metadata": {},
   "outputs": [
    {
     "name": "stdout",
     "output_type": "stream",
     "text": [
      "\n",
      "\n",
      "\u001b[1m> Entering new AgentExecutor chain...\u001b[0m\n",
      "\u001b[32;1m\u001b[1;3mThis question is not relevant to any of the tools provided.\n",
      "Action: N/A\n",
      "Final Answer: I don't know.\u001b[0m\n",
      "\n",
      "\u001b[1m> Finished chain.\u001b[0m\n"
     ]
    },
    {
     "data": {
      "text/plain": [
       "\"I don't know.\""
      ]
     },
     "execution_count": 36,
     "metadata": {},
     "output_type": "execute_result"
    }
   ],
   "source": [
    "vector_agent.run(\"hi\")"
   ]
  },
  {
   "cell_type": "code",
   "execution_count": 42,
   "metadata": {},
   "outputs": [],
   "source": [
    "from langchain import OpenAI\n",
    "from langchain.agents import initialize_agent, Tool, AgentType\n",
    "from langchain.memory import ConversationSummaryBufferMemory\n",
    "\n",
    "tools = [\n",
    "    Tool(\n",
    "        name = \"Intermediate Answer\",\n",
    "        func=get_memory().agent_tool(),\n",
    "        description=\"This is your primary tool. You always start here. This is the Oh My Zsh (ohmyzsh) wiki. It may not have all the info.\"\n",
    "\n",
    "    ),\n",
    " ]\n",
    "memory = ConversationSummaryBufferMemory(memory_key=\"chat_history\", \n",
    "                                         llm=OpenAI(temperature=0),\n",
    "                                         return_messages=True)\n",
    "\n",
    "convo_agent = initialize_agent(tools=tools, \n",
    "                              llm=OpenAI(temperature=0),\n",
    "                              agent=AgentType.SELF_ASK_WITH_SEARCH,\n",
    "                              verbose=True)"
   ]
  },
  {
   "cell_type": "code",
   "execution_count": 43,
   "metadata": {},
   "outputs": [
    {
     "name": "stdout",
     "output_type": "stream",
     "text": [
      "\n",
      "\n",
      "\u001b[1m> Entering new AgentExecutor chain...\u001b[0m\n",
      "\u001b[32;1m\u001b[1;3m No.\n",
      "So the final answer is: Oh My Zsh is an open source, community-driven framework for managing your zsh configuration.\u001b[0m\n",
      "\n",
      "\u001b[1m> Finished chain.\u001b[0m\n"
     ]
    },
    {
     "data": {
      "text/plain": [
       "'Oh My Zsh is an open source, community-driven framework for managing your zsh configuration.'"
      ]
     },
     "execution_count": 43,
     "metadata": {},
     "output_type": "execute_result"
    }
   ],
   "source": [
    "convo_agent.run(input=\"What is oh my zsh?\")"
   ]
  },
  {
   "cell_type": "code",
   "execution_count": 44,
   "metadata": {},
   "outputs": [
    {
     "name": "stdout",
     "output_type": "stream",
     "text": [
      "\n",
      "\n",
      "\u001b[1m> Entering new AgentExecutor chain...\u001b[0m\n",
      "\u001b[32;1m\u001b[1;3m No.\n",
      "So the final answer is: Hi! How can I help you?\u001b[0m\n",
      "\n",
      "\u001b[1m> Finished chain.\u001b[0m\n"
     ]
    },
    {
     "data": {
      "text/plain": [
       "'Hi! How can I help you?'"
      ]
     },
     "execution_count": 44,
     "metadata": {},
     "output_type": "execute_result"
    }
   ],
   "source": [
    "convo_agent.run(input=\"hi, whats up?\")"
   ]
  }
 ],
 "metadata": {
  "kernelspec": {
   "display_name": ".venv",
   "language": "python",
   "name": "python3"
  },
  "language_info": {
   "codemirror_mode": {
    "name": "ipython",
    "version": 3
   },
   "file_extension": ".py",
   "mimetype": "text/x-python",
   "name": "python",
   "nbconvert_exporter": "python",
   "pygments_lexer": "ipython3",
   "version": "3.11.2"
  },
  "orig_nbformat": 4
 },
 "nbformat": 4,
 "nbformat_minor": 2
}
